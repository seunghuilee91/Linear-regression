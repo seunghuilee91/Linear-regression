{
 "cells": [
  {
   "cell_type": "code",
   "execution_count": 5,
   "metadata": {},
   "outputs": [
    {
     "data": {
      "text/html": [
       "'C:/Users/seung/OneDrive/R/Rstudy_Dangsan/linear_regression'"
      ],
      "text/latex": [
       "'C:/Users/seung/OneDrive/R/Rstudy\\_Dangsan/linear\\_regression'"
      ],
      "text/markdown": [
       "'C:/Users/seung/OneDrive/R/Rstudy_Dangsan/linear_regression'"
      ],
      "text/plain": [
       "[1] \"C:/Users/seung/OneDrive/R/Rstudy_Dangsan/linear_regression\""
      ]
     },
     "metadata": {},
     "output_type": "display_data"
    },
    {
     "data": {
      "text/html": [
       "<ol class=list-inline>\n",
       "\t<li>'chapter7.2'</li>\n",
       "\t<li>'chapter7.2.R'</li>\n",
       "\t<li>'chapter7.R'</li>\n",
       "\t<li>'linear_regression.Rproj'</li>\n",
       "\t<li>'NatalRiskData.rData'</li>\n",
       "\t<li>'psub.RData'</li>\n",
       "\t<li>'Untitled.ipynb'</li>\n",
       "\t<li>'Untitled1.ipynb'</li>\n",
       "</ol>\n"
      ],
      "text/latex": [
       "\\begin{enumerate*}\n",
       "\\item 'chapter7.2'\n",
       "\\item 'chapter7.2.R'\n",
       "\\item 'chapter7.R'\n",
       "\\item 'linear\\_regression.Rproj'\n",
       "\\item 'NatalRiskData.rData'\n",
       "\\item 'psub.RData'\n",
       "\\item 'Untitled.ipynb'\n",
       "\\item 'Untitled1.ipynb'\n",
       "\\end{enumerate*}\n"
      ],
      "text/markdown": [
       "1. 'chapter7.2'\n",
       "2. 'chapter7.2.R'\n",
       "3. 'chapter7.R'\n",
       "4. 'linear_regression.Rproj'\n",
       "5. 'NatalRiskData.rData'\n",
       "6. 'psub.RData'\n",
       "7. 'Untitled.ipynb'\n",
       "8. 'Untitled1.ipynb'\n",
       "\n",
       "\n"
      ],
      "text/plain": [
       "[1] \"chapter7.2\"              \"chapter7.2.R\"           \n",
       "[3] \"chapter7.R\"              \"linear_regression.Rproj\"\n",
       "[5] \"NatalRiskData.rData\"     \"psub.RData\"             \n",
       "[7] \"Untitled.ipynb\"          \"Untitled1.ipynb\"        "
      ]
     },
     "metadata": {},
     "output_type": "display_data"
    },
    {
     "data": {
      "text/html": [
       "<ol class=list-inline>\n",
       "\t<li>'PWGT'</li>\n",
       "\t<li>'UPREVIS'</li>\n",
       "\t<li>'CIG_REC'</li>\n",
       "\t<li>'GESTREC3'</li>\n",
       "\t<li>'DPLURAL'</li>\n",
       "\t<li>'ULD_MECO'</li>\n",
       "\t<li>'ULD_PRECIP'</li>\n",
       "\t<li>'ULD_BREECH'</li>\n",
       "\t<li>'URF_DIAB'</li>\n",
       "\t<li>'URF_CHYPER'</li>\n",
       "\t<li>'URF_PHYPER'</li>\n",
       "\t<li>'URF_ECLAM'</li>\n",
       "\t<li>'atRisk'</li>\n",
       "\t<li>'DBWT'</li>\n",
       "\t<li>'ORIGRANDGROUP'</li>\n",
       "</ol>\n"
      ],
      "text/latex": [
       "\\begin{enumerate*}\n",
       "\\item 'PWGT'\n",
       "\\item 'UPREVIS'\n",
       "\\item 'CIG\\_REC'\n",
       "\\item 'GESTREC3'\n",
       "\\item 'DPLURAL'\n",
       "\\item 'ULD\\_MECO'\n",
       "\\item 'ULD\\_PRECIP'\n",
       "\\item 'ULD\\_BREECH'\n",
       "\\item 'URF\\_DIAB'\n",
       "\\item 'URF\\_CHYPER'\n",
       "\\item 'URF\\_PHYPER'\n",
       "\\item 'URF\\_ECLAM'\n",
       "\\item 'atRisk'\n",
       "\\item 'DBWT'\n",
       "\\item 'ORIGRANDGROUP'\n",
       "\\end{enumerate*}\n"
      ],
      "text/markdown": [
       "1. 'PWGT'\n",
       "2. 'UPREVIS'\n",
       "3. 'CIG_REC'\n",
       "4. 'GESTREC3'\n",
       "5. 'DPLURAL'\n",
       "6. 'ULD_MECO'\n",
       "7. 'ULD_PRECIP'\n",
       "8. 'ULD_BREECH'\n",
       "9. 'URF_DIAB'\n",
       "10. 'URF_CHYPER'\n",
       "11. 'URF_PHYPER'\n",
       "12. 'URF_ECLAM'\n",
       "13. 'atRisk'\n",
       "14. 'DBWT'\n",
       "15. 'ORIGRANDGROUP'\n",
       "\n",
       "\n"
      ],
      "text/plain": [
       " [1] \"PWGT\"          \"UPREVIS\"       \"CIG_REC\"       \"GESTREC3\"     \n",
       " [5] \"DPLURAL\"       \"ULD_MECO\"      \"ULD_PRECIP\"    \"ULD_BREECH\"   \n",
       " [9] \"URF_DIAB\"      \"URF_CHYPER\"    \"URF_PHYPER\"    \"URF_ECLAM\"    \n",
       "[13] \"atRisk\"        \"DBWT\"          \"ORIGRANDGROUP\""
      ]
     },
     "metadata": {},
     "output_type": "display_data"
    },
    {
     "data": {
      "text/plain": [
       "\n",
       "FALSE  TRUE \n",
       "25831   482 "
      ]
     },
     "metadata": {},
     "output_type": "display_data"
    },
    {
     "data": {
      "text/plain": [
       "\n",
       "           single triplet or higher              twin \n",
       "            25440                44               829 "
      ]
     },
     "metadata": {},
     "output_type": "display_data"
    }
   ],
   "source": [
    "\n",
    "###   1. 로지스틱 회귀 이해하기 \n",
    "# 선형 회귀와 달리 로지스틱 회귀는 같은 확률로 (0,1) 간격으로 제한되어 값을 예측할 수 있다. 로지스틱 회귀는 확률 또는 비율을 예측하기 위한 이동 방법으로, 선형 회귀와 마찬가지로 로지스틱 회귀 모델의 계수는 조언으로 취급될 수 있다. 또한 이진 분류 문제에 대해 효과적인 최우선 방법이다.\n",
    "\n",
    "##  1.1 데이터 불러오기 \n",
    "getwd()\n",
    "dir()\n",
    "load(\"NatalRiskData.rData\")\n",
    "\n",
    "train <- sdata[sdata$ORIGRANDGROUP<=5,]\n",
    "test <- sdata[sdata$ORIGRANDGROUP>5,]\n",
    "\n",
    "colnames(sdata)\n",
    "table(sdata$atRisk)\n",
    "table(sdata$DPLURAL)"
   ]
  },
  {
   "cell_type": "code",
   "execution_count": 6,
   "metadata": {},
   "outputs": [
    {
     "data": {
      "text/html": [
       "<ol class=list-inline>\n",
       "\t<li>'PWGT'</li>\n",
       "\t<li>'UPREVIS'</li>\n",
       "\t<li>'CIG_REC'</li>\n",
       "\t<li>'GESTREC3'</li>\n",
       "\t<li>'DPLURAL'</li>\n",
       "\t<li>'ULD_MECO'</li>\n",
       "\t<li>'ULD_PRECIP'</li>\n",
       "\t<li>'ULD_BREECH'</li>\n",
       "\t<li>'URF_DIAB'</li>\n",
       "\t<li>'URF_CHYPER'</li>\n",
       "\t<li>'URF_PHYPER'</li>\n",
       "\t<li>'URF_ECLAM'</li>\n",
       "</ol>\n"
      ],
      "text/latex": [
       "\\begin{enumerate*}\n",
       "\\item 'PWGT'\n",
       "\\item 'UPREVIS'\n",
       "\\item 'CIG\\_REC'\n",
       "\\item 'GESTREC3'\n",
       "\\item 'DPLURAL'\n",
       "\\item 'ULD\\_MECO'\n",
       "\\item 'ULD\\_PRECIP'\n",
       "\\item 'ULD\\_BREECH'\n",
       "\\item 'URF\\_DIAB'\n",
       "\\item 'URF\\_CHYPER'\n",
       "\\item 'URF\\_PHYPER'\n",
       "\\item 'URF\\_ECLAM'\n",
       "\\end{enumerate*}\n"
      ],
      "text/markdown": [
       "1. 'PWGT'\n",
       "2. 'UPREVIS'\n",
       "3. 'CIG_REC'\n",
       "4. 'GESTREC3'\n",
       "5. 'DPLURAL'\n",
       "6. 'ULD_MECO'\n",
       "7. 'ULD_PRECIP'\n",
       "8. 'ULD_BREECH'\n",
       "9. 'URF_DIAB'\n",
       "10. 'URF_CHYPER'\n",
       "11. 'URF_PHYPER'\n",
       "12. 'URF_ECLAM'\n",
       "\n",
       "\n"
      ],
      "text/plain": [
       " [1] \"PWGT\"       \"UPREVIS\"    \"CIG_REC\"    \"GESTREC3\"   \"DPLURAL\"   \n",
       " [6] \"ULD_MECO\"   \"ULD_PRECIP\" \"ULD_BREECH\" \"URF_DIAB\"   \"URF_CHYPER\"\n",
       "[11] \"URF_PHYPER\" \"URF_ECLAM\" "
      ]
     },
     "metadata": {},
     "output_type": "display_data"
    },
    {
     "data": {
      "text/plain": [
       "\n",
       "Call:\n",
       "glm(formula = fmla, family = binomial(link = \"logit\"), data = train)\n",
       "\n",
       "Deviance Residuals: \n",
       "    Min       1Q   Median       3Q      Max  \n",
       "-0.9732  -0.1818  -0.1511  -0.1358   3.2641  \n",
       "\n",
       "Coefficients:\n",
       "                          Estimate Std. Error z value Pr(>|z|)    \n",
       "(Intercept)              -4.412189   0.289352 -15.249  < 2e-16 ***\n",
       "PWGT                      0.003762   0.001487   2.530 0.011417 *  \n",
       "UPREVIS                  -0.063289   0.015252  -4.150 3.33e-05 ***\n",
       "CIG_RECTRUE               0.313169   0.187230   1.673 0.094398 .  \n",
       "GESTREC3< 37 weeks        1.545183   0.140795  10.975  < 2e-16 ***\n",
       "DPLURALtriplet or higher  1.394193   0.498866   2.795 0.005194 ** \n",
       "DPLURALtwin               0.312319   0.241088   1.295 0.195163    \n",
       "ULD_MECOTRUE              0.818426   0.235798   3.471 0.000519 ***\n",
       "ULD_PRECIPTRUE            0.191720   0.357680   0.536 0.591951    \n",
       "ULD_BREECHTRUE            0.749237   0.178129   4.206 2.60e-05 ***\n",
       "URF_DIABTRUE             -0.346467   0.287514  -1.205 0.228187    \n",
       "URF_CHYPERTRUE            0.560025   0.389678   1.437 0.150676    \n",
       "URF_PHYPERTRUE            0.161599   0.250003   0.646 0.518029    \n",
       "URF_ECLAMTRUE             0.498064   0.776948   0.641 0.521489    \n",
       "---\n",
       "Signif. codes:  0 '***' 0.001 '**' 0.01 '*' 0.05 '.' 0.1 ' ' 1\n",
       "\n",
       "(Dispersion parameter for binomial family taken to be 1)\n",
       "\n",
       "    Null deviance: 2698.7  on 14211  degrees of freedom\n",
       "Residual deviance: 2463.0  on 14198  degrees of freedom\n",
       "AIC: 2491\n",
       "\n",
       "Number of Fisher Scoring iterations: 7\n"
      ]
     },
     "metadata": {},
     "output_type": "display_data"
    }
   ],
   "source": [
    "\n",
    "## 2. 로지스틱 회귀 모델 만들기\n",
    "\n",
    "complications <- c(\"ULD_MECO\", \"ULD_PRECIP\", \"ULD_BREECH\")\n",
    "\n",
    "riskfactors <- c(\"URF_DIAB\", \"URF_CHYPER\", \"URF_PHYPER\",\"URF_ECLAM\") # 좌부터 당뇨 / 고혈압 / 임신고혈압 / 임신중독증 여부  TRUE | FALSE\n",
    "\n",
    "y <- \"atRisk\"\n",
    "x <- c(\"PWGT\", \"UPREVIS\", \"CIG_REC\", \"GESTREC3\", \"DPLURAL\", complications, riskfactors)\n",
    "x\n",
    "fmla <- paste(y, paste(x, collapse = \"+\"), sep = \"~\")\n",
    "\n",
    "model <- glm(fmla, data = train, family=binomial(link=\"logit\"))\n",
    "summary(model)"
   ]
  },
  {
   "cell_type": "code",
   "execution_count": 8,
   "metadata": {},
   "outputs": [],
   "source": [
    "\n",
    "train$pred <- predict(model, newdata= train, type=\"response\")\n",
    "test$pred <- predict(model, newdata = test, type=\"response\")\n",
    "# type = \"response\" = 예측된 확률값 y를 반환하도록 한다. 만일 없다면, 기본적으로 predict() 함수는 link 함수인 logit(y)를 결괏값으로 줄 것 이다.\n"
   ]
  },
  {
   "cell_type": "code",
   "execution_count": 9,
   "metadata": {},
   "outputs": [
    {
     "data": {
      "image/png": "[encoded data removed]",
      "text/plain": [
       "plot without title"
      ]
     },
     "metadata": {},
     "output_type": "display_data"
    }
   ],
   "source": [
    "## 3. 예측 모델 만들기 \n",
    "library(ggplot2)\n",
    "ggplot(train, aes(x= pred, color=atRisk, lintype=atRisk)) +\n",
    " geom_density()"
   ]
  },
  {
   "cell_type": "markdown",
   "metadata": {},
   "source": [
    "이상적으로는 부정적인 인스턴스의 스코어(false)가 왼쪽에 집중되고 긍정적인 인스턴스에 대한 분포가 오른쪽에 집중되도록 스코어를 분리한다. 현재의 경우 두 분포 모두 왼쪽에 집중되어 있어 양수 및 음수 모두 낮은 스코어를 얻는다. 긍정적인 경우(babies at risk)가 드물기 때문에(모든 출생의 약 1.8%) 이는 그리 놀랍지 않다. "
   ]
  },
  {
   "cell_type": "code",
   "execution_count": 10,
   "metadata": {},
   "outputs": [
    {
     "name": "stderr",
     "output_type": "stream",
     "text": [
      "\n",
      "Attaching package: 'dplyr'\n",
      "\n",
      "The following objects are masked from 'package:stats':\n",
      "\n",
      "    filter, lag\n",
      "\n",
      "The following objects are masked from 'package:base':\n",
      "\n",
      "    intersect, setdiff, setequal, union\n",
      "\n",
      "Warning message:\n",
      "\"package 'ROCR' was built under R version 3.6.2\"Loading required package: gplots\n",
      "\n",
      "Attaching package: 'gplots'\n",
      "\n",
      "The following object is masked from 'package:stats':\n",
      "\n",
      "    lowess\n",
      "\n"
     ]
    }
   ],
   "source": [
    "library(dplyr)\n",
    "library(ROCR)\n",
    "library(grid)"
   ]
  },
  {
   "cell_type": "markdown",
   "metadata": {},
   "source": [
    "ROCR (수신자 조작 특성 곡선 = Receiver Operation Characteristic Curve)은 이중 밀도 함수 플롯의 대안으로 알려져 있다. 서로 다른 구분기를 위해 긍정과 부정의 결과 간에 다른 임계치를 얻을 수 있어 참 인식률과 거짓 인식률을 모두 플롯으로 그릴 수 있다. 이 곡선은 분류기를 위해 사용할 수 있고 민감도와 특정률 간의 모든 가능한 트레이드 오프 상황을 표현할 수 있다. *이진분류만 지원 가능하다(Binary Classification)\n",
    " y: TPR (TRUE POSITIVE RATE) = 민감도\n",
    "  ; 실제 Positive 에서 Positive 라고 예측한 비율\n",
    " x: FPR (FALSE POSITIVE RATE) = 1 - 특이도 \n",
    "  ; 특이도 : 실제 negative 에서 negative 예측 비율 \n",
    " so, 1 - 특이도 : 실제 negative 에서 positive로 잘못 예측한 비율 \n",
    " <b> *** tpr, fpr 은 roc curve 그릴 때 사용 </b>\n"
   ]
  },
  {
   "cell_type": "code",
   "execution_count": 11,
   "metadata": {},
   "outputs": [],
   "source": [
    "# threshold (임계값) 수치 기준 이하의 미미한 차이에서는 무시하고 일정 수치 이상에서만 처리한다. \n",
    "predObj <- prediction(train$pred, train$atRisk)\n",
    "precObj <- performance(predObj,measure = \"prec\")\n",
    "recObj <- performance(predObj, measure = \"rec\")"
   ]
  },
  {
   "cell_type": "code",
   "execution_count": 12,
   "metadata": {},
   "outputs": [
    {
     "data": {
      "text/html": [
       "0.695617902913972"
      ],
      "text/latex": [
       "0.695617902913972"
      ],
      "text/markdown": [
       "0.695617902913972"
      ],
      "text/plain": [
       "[1] 0.6956179"
      ]
     },
     "metadata": {},
     "output_type": "display_data"
    }
   ],
   "source": [
    "auc <- performance(predObj, measure = \"auc\")\n",
    "auc <- auc@y.values[[1]]\n",
    "auc"
   ]
  },
  {
   "cell_type": "markdown",
   "metadata": {},
   "source": [
    " ROC 곡선이 2번 방향을 향할 수록 AUC는 넓어지는데요,\n",
    " 모든 case의 결과를 완벽하게 예측하는 모델인 경우 AUC는 1,  무작위로 예측한 모델과 다를 바가 없는 경우 (=reference line) AUC는 0.5의 값을 가지게 됩니다.\n",
    " AUC를 판단하는 대략적인 기준은 아래와 같습니다.\n",
    "- excellent =  0.9~1\n",
    "- good = 0.8~0.9\n",
    "- fair = 0.7~0.8\n",
    "- poor = 0.6~0.7\n",
    "- fail = 0.5~0.6"
   ]
  },
  {
   "cell_type": "code",
   "execution_count": 14,
   "metadata": {},
   "outputs": [],
   "source": [
    "precision <- (precObj@y.values)[[1]]\n",
    "prec.x <- (precObj@x.values)[[1]]\n",
    "recall <- recObj@y.values[[1]]\n",
    " rocFrame <- data.frame(threshold=prec.x, precision=precision, recall=recall)"
   ]
  },
  {
   "cell_type": "code",
   "execution_count": 17,
   "metadata": {},
   "outputs": [],
   "source": [
    "# 도표 붙히는 함수 \n",
    "nplot <- function(plist){\n",
    "  n <- length(plist)\n",
    "  grid.newpage()\n",
    "  pushViewport(viewport(layout=grid.layout(n,1)))\n",
    "  vplayout=function(x,y) {viewport(layout.pos.row = x, layout.pos.col = y)}\n",
    "  for(i in 1:n){\n",
    "   print(plist[[i]], vp=vplayout(i,1))\n",
    "  }\n",
    " }"
   ]
  },
  {
   "cell_type": "code",
   "execution_count": 18,
   "metadata": {},
   "outputs": [
    {
     "name": "stderr",
     "output_type": "stream",
     "text": [
      "Warning message:\n",
      "\"Removed 1 rows containing missing values (geom_path).\""
     ]
    },
    {
     "data": {
      "image/png": "[encoded data removed]",
      "text/plain": [
       "plot without title"
      ]
     },
     "metadata": {},
     "output_type": "display_data"
    }
   ],
   "source": [
    "pnull <- mean(as.numeric(train$atRisk)) \n",
    "p1 <- ggplot(rocFrame, aes(x=threshold)) +\n",
    " geom_line(aes(y=precision/pnull)) + \n",
    " coord_cartesian(xlim= c(0,0.05), ylim=c(0,10))\n",
    "\n",
    "\n",
    "p2 <- ggplot(rocFrame, aes(x=threshold)) +\n",
    " geom_line(aes(y=recall)) + \n",
    " coord_cartesian(xlim= c(0,0.05))\n",
    "nplot(list(p1,p2))\n"
   ]
  },
  {
   "cell_type": "code",
   "execution_count": 26,
   "metadata": {},
   "outputs": [
    {
     "data": {
      "text/plain": [
       "       atRist\n",
       "pred    FALSE TRUE\n",
       "  FALSE  9487   93\n",
       "  TRUE   2405  116"
      ]
     },
     "metadata": {},
     "output_type": "display_data"
    }
   ],
   "source": [
    "# 테스트 세트를 사용하여 임계값이 0.02인 분류 기준을 평가해 본다.\n",
    "# 결과 분류기는 정확도가 낮지만 테스트 세트에서 실제 양성 사례의 55.5% 포함하는 잠재적인 위험에 처한 사례 집합을 식별하며 전체 평균보다 2.66배 높다.  \n",
    "crab.test <- table(pred=test$pred>0.02, atRist=test$atRisk)\n",
    "crab.test\n"
   ]
  },
  {
   "cell_type": "code",
   "execution_count": 28,
   "metadata": {},
   "outputs": [
    {
     "data": {
      "text/html": [
       "0.0460134867116224"
      ],
      "text/latex": [
       "0.0460134867116224"
      ],
      "text/markdown": [
       "0.0460134867116224"
      ],
      "text/plain": [
       "[1] 0.04601349"
      ]
     },
     "metadata": {},
     "output_type": "display_data"
    }
   ],
   "source": [
    "precision <- crab.test[2,2]/sum(crab.test[2,])\n",
    "precision\n"
   ]
  },
  {
   "cell_type": "code",
   "execution_count": 29,
   "metadata": {},
   "outputs": [
    {
     "data": {
      "text/html": [
       "0.555023923444976"
      ],
      "text/latex": [
       "0.555023923444976"
      ],
      "text/markdown": [
       "0.555023923444976"
      ],
      "text/plain": [
       "[1] 0.5550239"
      ]
     },
     "metadata": {},
     "output_type": "display_data"
    }
   ],
   "source": [
    "recall <- crab.test[2,2]/sum(crab.test[,2])\n",
    "recall\n"
   ]
  },
  {
   "cell_type": "code",
   "execution_count": 30,
   "metadata": {},
   "outputs": [
    {
     "data": {
      "text/html": [
       "2.66415886458059"
      ],
      "text/latex": [
       "2.66415886458059"
      ],
      "text/markdown": [
       "2.66415886458059"
      ],
      "text/plain": [
       "[1] 2.664159"
      ]
     },
     "metadata": {},
     "output_type": "display_data"
    }
   ],
   "source": [
    "enrich <- precision/mean(as.numeric(test$atRisk))\n",
    "enrich"
   ]
  },
  {
   "cell_type": "code",
   "execution_count": 31,
   "metadata": {},
   "outputs": [
    {
     "data": {
      "text/html": [
       "<dl class=dl-horizontal>\n",
       "\t<dt>(Intercept)</dt>\n",
       "\t\t<dd>-4.41218940356739</dd>\n",
       "\t<dt>PWGT</dt>\n",
       "\t\t<dd>0.00376166042285212</dd>\n",
       "\t<dt>UPREVIS</dt>\n",
       "\t\t<dd>-0.0632894340679207</dd>\n",
       "\t<dt>CIG_RECTRUE</dt>\n",
       "\t\t<dd>0.313169300780783</dd>\n",
       "\t<dt>GESTREC3&lt; 37 weeks</dt>\n",
       "\t\t<dd>1.54518310890716</dd>\n",
       "\t<dt>DPLURALtriplet or higher</dt>\n",
       "\t\t<dd>1.39419293654467</dd>\n",
       "\t<dt>DPLURALtwin</dt>\n",
       "\t\t<dd>0.312318707727081</dd>\n",
       "\t<dt>ULD_MECOTRUE</dt>\n",
       "\t\t<dd>0.818426267539654</dd>\n",
       "\t<dt>ULD_PRECIPTRUE</dt>\n",
       "\t\t<dd>0.191720080037597</dd>\n",
       "\t<dt>ULD_BREECHTRUE</dt>\n",
       "\t\t<dd>0.74923671695971</dd>\n",
       "\t<dt>URF_DIABTRUE</dt>\n",
       "\t\t<dd>-0.346466722729742</dd>\n",
       "\t<dt>URF_CHYPERTRUE</dt>\n",
       "\t\t<dd>0.560025028644149</dd>\n",
       "\t<dt>URF_PHYPERTRUE</dt>\n",
       "\t\t<dd>0.161598720401276</dd>\n",
       "\t<dt>URF_ECLAMTRUE</dt>\n",
       "\t\t<dd>0.498064353279407</dd>\n",
       "</dl>\n"
      ],
      "text/latex": [
       "\\begin{description*}\n",
       "\\item[(Intercept)] -4.41218940356739\n",
       "\\item[PWGT] 0.00376166042285212\n",
       "\\item[UPREVIS] -0.0632894340679207\n",
       "\\item[CIG\\textbackslash{}\\_RECTRUE] 0.313169300780783\n",
       "\\item[GESTREC3< 37 weeks] 1.54518310890716\n",
       "\\item[DPLURALtriplet or higher] 1.39419293654467\n",
       "\\item[DPLURALtwin] 0.312318707727081\n",
       "\\item[ULD\\textbackslash{}\\_MECOTRUE] 0.818426267539654\n",
       "\\item[ULD\\textbackslash{}\\_PRECIPTRUE] 0.191720080037597\n",
       "\\item[ULD\\textbackslash{}\\_BREECHTRUE] 0.74923671695971\n",
       "\\item[URF\\textbackslash{}\\_DIABTRUE] -0.346466722729742\n",
       "\\item[URF\\textbackslash{}\\_CHYPERTRUE] 0.560025028644149\n",
       "\\item[URF\\textbackslash{}\\_PHYPERTRUE] 0.161598720401276\n",
       "\\item[URF\\textbackslash{}\\_ECLAMTRUE] 0.498064353279407\n",
       "\\end{description*}\n"
      ],
      "text/markdown": [
       "(Intercept)\n",
       ":   -4.41218940356739PWGT\n",
       ":   0.00376166042285212UPREVIS\n",
       ":   -0.0632894340679207CIG_RECTRUE\n",
       ":   0.313169300780783GESTREC3&amp;lt; 37 weeks\n",
       ":   1.54518310890716DPLURALtriplet or higher\n",
       ":   1.39419293654467DPLURALtwin\n",
       ":   0.312318707727081ULD_MECOTRUE\n",
       ":   0.818426267539654ULD_PRECIPTRUE\n",
       ":   0.191720080037597ULD_BREECHTRUE\n",
       ":   0.74923671695971URF_DIABTRUE\n",
       ":   -0.346466722729742URF_CHYPERTRUE\n",
       ":   0.560025028644149URF_PHYPERTRUE\n",
       ":   0.161598720401276URF_ECLAMTRUE\n",
       ":   0.498064353279407\n",
       "\n"
      ],
      "text/plain": [
       "             (Intercept)                     PWGT                  UPREVIS \n",
       "             -4.41218940               0.00376166              -0.06328943 \n",
       "             CIG_RECTRUE       GESTREC3< 37 weeks DPLURALtriplet or higher \n",
       "              0.31316930               1.54518311               1.39419294 \n",
       "             DPLURALtwin             ULD_MECOTRUE           ULD_PRECIPTRUE \n",
       "              0.31231871               0.81842627               0.19172008 \n",
       "          ULD_BREECHTRUE             URF_DIABTRUE           URF_CHYPERTRUE \n",
       "              0.74923672              -0.34646672               0.56002503 \n",
       "          URF_PHYPERTRUE            URF_ECLAMTRUE \n",
       "              0.16159872               0.49806435 "
      ]
     },
     "metadata": {},
     "output_type": "display_data"
    },
    {
     "data": {
      "text/html": [
       "4.68882960433229"
      ],
      "text/latex": [
       "4.68882960433229"
      ],
      "text/markdown": [
       "4.68882960433229"
      ],
      "text/plain": [
       "[1] 4.68883"
      ]
     },
     "metadata": {},
     "output_type": "display_data"
    },
    {
     "data": {
      "text/html": [
       "0.188979921420229"
      ],
      "text/latex": [
       "0.188979921420229"
      ],
      "text/markdown": [
       "0.188979921420229"
      ],
      "text/plain": [
       "[1] 0.1889799"
      ]
     },
     "metadata": {},
     "output_type": "display_data"
    }
   ],
   "source": [
    "## 4. 관계 찾기와 조언 추출하기\n",
    "# exp() = 지수함수란 거듭제곱의 지수를 변수로 하고, 정의역을 실수 전체로 정의하는 초월함수이다. 로그 함수의 역함수.\n",
    "# x = e^4 = 54.6\n",
    "# x = exp(4) = 54.6\n",
    "coefficients(model)\n",
    "\n",
    "exp(1.545183)\n",
    "log(1.545183, base=10)"
   ]
  },
  {
   "cell_type": "code",
   "execution_count": 32,
   "metadata": {},
   "outputs": [
    {
     "data": {
      "text/plain": [
       "\n",
       "Call:\n",
       "glm(formula = fmla, family = binomial(link = \"logit\"), data = train)\n",
       "\n",
       "Deviance Residuals: \n",
       "    Min       1Q   Median       3Q      Max  \n",
       "-0.9732  -0.1818  -0.1511  -0.1358   3.2641  \n",
       "\n",
       "Coefficients:\n",
       "                          Estimate Std. Error z value Pr(>|z|)    \n",
       "(Intercept)              -4.412189   0.289352 -15.249  < 2e-16 ***\n",
       "PWGT                      0.003762   0.001487   2.530 0.011417 *  \n",
       "UPREVIS                  -0.063289   0.015252  -4.150 3.33e-05 ***\n",
       "CIG_RECTRUE               0.313169   0.187230   1.673 0.094398 .  \n",
       "GESTREC3< 37 weeks        1.545183   0.140795  10.975  < 2e-16 ***\n",
       "DPLURALtriplet or higher  1.394193   0.498866   2.795 0.005194 ** \n",
       "DPLURALtwin               0.312319   0.241088   1.295 0.195163    \n",
       "ULD_MECOTRUE              0.818426   0.235798   3.471 0.000519 ***\n",
       "ULD_PRECIPTRUE            0.191720   0.357680   0.536 0.591951    \n",
       "ULD_BREECHTRUE            0.749237   0.178129   4.206 2.60e-05 ***\n",
       "URF_DIABTRUE             -0.346467   0.287514  -1.205 0.228187    \n",
       "URF_CHYPERTRUE            0.560025   0.389678   1.437 0.150676    \n",
       "URF_PHYPERTRUE            0.161599   0.250003   0.646 0.518029    \n",
       "URF_ECLAMTRUE             0.498064   0.776948   0.641 0.521489    \n",
       "---\n",
       "Signif. codes:  0 '***' 0.001 '**' 0.01 '*' 0.05 '.' 0.1 ' ' 1\n",
       "\n",
       "(Dispersion parameter for binomial family taken to be 1)\n",
       "\n",
       "    Null deviance: 2698.7  on 14211  degrees of freedom\n",
       "Residual deviance: 2463.0  on 14198  degrees of freedom\n",
       "AIC: 2491\n",
       "\n",
       "Number of Fisher Scoring iterations: 7\n"
      ]
     },
     "metadata": {},
     "output_type": "display_data"
    }
   ],
   "source": [
    "## 5. 모델 요약값 해석과 계수 품질 규정\n",
    "summary(model)"
   ]
  },
  {
   "cell_type": "code",
   "execution_count": null,
   "metadata": {},
   "outputs": [],
   "source": []
  }
 ],
 "metadata": {
  "kernelspec": {
   "display_name": "R",
   "language": "R",
   "name": "ir"
  },
  "language_info": {
   "codemirror_mode": "r",
   "file_extension": ".r",
   "mimetype": "text/x-r-source",
   "name": "R",
   "pygments_lexer": "r",
   "version": "3.6.1"
  }
 },
 "nbformat": 4,
 "nbformat_minor": 2
}
