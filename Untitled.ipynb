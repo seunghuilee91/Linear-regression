{
 "cells": [
  {
   "cell_type": "code",
   "execution_count": 9,
   "metadata": {},
   "outputs": [],
   "source": [
    "# Chapter 7 선형 회귀와 로지스틱 회귀\n",
    "library(dplyr)\n",
    "library(tidyverse)"
   ]
  },
  {
   "cell_type": "code",
   "execution_count": 24,
   "metadata": {},
   "outputs": [
    {
     "data": {
      "text/html": [
       "'C:/Users/seung/OneDrive/R/Rstudy_Dangsan/linear_regression'"
      ],
      "text/latex": [
       "'C:/Users/seung/OneDrive/R/Rstudy\\_Dangsan/linear\\_regression'"
      ],
      "text/markdown": [
       "'C:/Users/seung/OneDrive/R/Rstudy_Dangsan/linear_regression'"
      ],
      "text/plain": [
       "[1] \"C:/Users/seung/OneDrive/R/Rstudy_Dangsan/linear_regression\""
      ]
     },
     "metadata": {},
     "output_type": "display_data"
    },
    {
     "data": {
      "text/plain": [
       "\n",
       "Employee of a private for-profit      Federal government employee \n",
       "                             419                               22 \n",
       "       Local government employee  Private not-for-profit employee \n",
       "                              47                               70 \n",
       "      Self-employed incorporated   Self-employed not incorporated \n",
       "                              20                               25 \n",
       "       State government employee \n",
       "                              26 "
      ]
     },
     "metadata": {},
     "output_type": "display_data"
    },
    {
     "data": {
      "text/plain": [
       "\n",
       "        no high school diploma             Associate's degree \n",
       "                            44                             56 \n",
       "             Bachelor's degree               Doctorate degree \n",
       "                           137                              5 \n",
       " GED or alternative credential                Master's degree \n",
       "                            27                             53 \n",
       "           Professional degree    Regular high school diploma \n",
       "                             7                            160 \n",
       "some college credit, no degree \n",
       "                           140 "
      ]
     },
     "metadata": {},
     "output_type": "display_data"
    },
    {
     "data": {
      "text/plain": [
       "\n",
       "20 21 22 23 24 25 26 27 28 29 30 31 32 33 34 35 36 37 38 39 40 41 42 43 44 45 \n",
       "14  5 12  7 16 21 12 17 22 24 22 12 17 30 20 20 19 19 21 25 32 20 28 30 20 24 \n",
       "46 47 48 49 50 \n",
       "20 29 23 19 29 "
      ]
     },
     "metadata": {},
     "output_type": "display_data"
    },
    {
     "data": {
      "text/plain": [
       "\n",
       "  M   F \n",
       "381 248 "
      ]
     },
     "metadata": {},
     "output_type": "display_data"
    },
    {
     "data": {
      "text/plain": [
       "\n",
       "  1200   1500   2400   2500   3000   3200   4800   5800   5900   6000   7000 \n",
       "     1      1      1      1      1      1      2      1      1      4      4 \n",
       "  7630   7900   8000   8300   8400   8900   9000   9800  10000  11000  11100 \n",
       "     1      1      3      1      1      1      1      1      5      1      2 \n",
       " 11900  12000  12500  13000  13200  13400  13500  14000  14400  15000  15600 \n",
       "     1      8      1      4      1      1      1      3      3     10      1 \n",
       " 15750  16000  16500  16800  17000  17100  17500  17800  18000  18200  18600 \n",
       "     1      2      1      4      8      1      2      2      3      1      1 \n",
       " 19000  19200  20000  20100  20300  20400  20800  20900  21000  21100  21500 \n",
       "     2      4     13      1      1      1      2      1      4      1      2 \n",
       " 21700  22000  22400  22720  22900  23000  23100  23200  23900  24000  24700 \n",
       "     1      6      1      1      2      3      2      1      1      5      1 \n",
       " 25000  25700  26000  26400  26800  27000  27010  27400  28000  28300  28800 \n",
       "    19      1      6      1      1      7      1      1     10      2      1 \n",
       " 29000  29800  30000  30200  30700  31000  31200  31500  31600  32000  32500 \n",
       "     7      1     25      1      2      4      1      2      1      8      1 \n",
       " 32700  33000  33600  33700  33800  34000  34200  34300  34500  34900  34970 \n",
       "     1      7      1      1      1      3      1      1      2      1      1 \n",
       " 35000  35600  36000  37000  37100  37390  37400  37900  38000  38050  38700 \n",
       "    10      1     10      2      2      1      1      1      9      1      1 \n",
       " 39000  39010  39200  39500  39800  40000  40800  41000  41200  41300  42000 \n",
       "     3      1      1      2      1     22      1      3      1      2      7 \n",
       " 42500  42800  43000  43600  44000  44200  45000  45400  46000  47000  47300 \n",
       "     1      1      3      1      1      1     17      1      3      5      1 \n",
       " 47800  48000  48600  48900  49000  49130  49400  50000  50010  50030  51000 \n",
       "     1      5      1      1      1      1      1     16      2      1      2 \n",
       " 51020  51500  52000  52100  53000  54000  54020  54400  55000  56000  56900 \n",
       "     1      1      6      1      3      1      1      1      6      6      1 \n",
       " 57000  57110  57500  58000  59000  60000  60010  61000  61200  61800  62000 \n",
       "     3      1      1      7      2     16      1      2      1      1      2 \n",
       " 63000  63150  64000  65000  65150  65200  66000  66240  67000  68000  68330 \n",
       "     2      1      3     12      1      1      1      1      2      2      1 \n",
       " 69000  69020  70000  71000  72000  73500  74000  75000  78000  78200  79000 \n",
       "     2      1      8      2      2      1      1      6      1      1      1 \n",
       " 80000  80400  80500  82030  83000  84000  85000  87000  87600  88000  90000 \n",
       "     8      1      1      1      2      2      4      1      1      1      4 \n",
       " 91000  92000  92300  93000  95000  96000  96100  97500  98000  99000  99800 \n",
       "     1      3      1      1      1      1      1      1      2      1      1 \n",
       " 1e+05 103000 105300 108130 112000 113000 113200 114500 115000 120000 123000 \n",
       "     7      2      1      1      1      1      1      1      2      8      2 \n",
       "125000 125020 125200 128000 128800 130000 137000 140000 165000 169000 177200 \n",
       "     1      1      1      1      1      1      1      2      1      1      1 \n",
       "181000 188000 190000 217000 229000 230000 250000 \n",
       "     1      1      1      1      1      1      1 "
      ]
     },
     "metadata": {},
     "output_type": "display_data"
    }
   ],
   "source": [
    "# subset() 설정하는 조건에 맞는 벡터, 매트릭스 혹은 데이터 프레임을 반환합니다. select 파라미터는 열을 가지고 있는 데이터프레임에서만 적용됩니다.\n",
    "# '또는' 조건을 적용하기 위해선 c나 | (shift+\\)로 묶어주어야함\n",
    "# # 묶어주지 않을 경우 쉼표 다음의 조건이 select인 것으로 오인하여 오류가 남 \n",
    "# subset(diamonds, cut==c('Premium', 'Fair'))\n",
    "# subset(diamonds, cut=='Premium' | color=='E')\n",
    "getwd()\n",
    "\n",
    "# 2011 미국 인구조사 PUMS 데이터에서 연령과 교육 등의 인구 통계학적 변수를 이용하여 개인 소득 예측\n",
    "# 1. 데이터 불러오기\n",
    "load(\"psub.RData\")\n",
    "dtrain <- subset(psub, ORIGRANDGROUP >=500)\n",
    "dtest <- subset(psub, ORIGRANDGROUP < 500)\n",
    "\n",
    "table(dtest$COW)   # 직업형태\n",
    "table(dtest$SCHL)  # 교육수준\n",
    "table(dtest$AGEP)  # 나이\n",
    "table(dtest$SEX)   # 성별\n",
    "table(dtest$PINCP) # 소득수준\n"
   ]
  },
  {
   "cell_type": "code",
   "execution_count": 27,
   "metadata": {},
   "outputs": [
    {
     "data": {
      "text/plain": [
       "\n",
       "Call:\n",
       "lm(formula = log(PINCP, base = 10) ~ AGEP + SEX + COW + SCHL, \n",
       "    data = dtrain)\n",
       "\n",
       "Coefficients:\n",
       "                       (Intercept)                                AGEP  \n",
       "                           3.97328                             0.01172  \n",
       "                              SEXF      COWFederal government employee  \n",
       "                          -0.09313                             0.05973  \n",
       "      COWLocal government employee  COWPrivate not-for-profit employee  \n",
       "                          -0.03442                            -0.13352  \n",
       "     COWSelf-employed incorporated   COWSelf-employed not incorporated  \n",
       "                          -0.07243                            -0.06061  \n",
       "      COWState government employee              SCHLAssociate's degree  \n",
       "                          -0.08128                             0.22143  \n",
       "             SCHLBachelor's degree                SCHLDoctorate degree  \n",
       "                           0.39383                             0.30655  \n",
       " SCHLGED or alternative credential                 SCHLMaster's degree  \n",
       "                           0.13777                             0.47728  \n",
       "           SCHLProfessional degree     SCHLRegular high school diploma  \n",
       "                           0.67877                             0.10175  \n",
       "SCHLsome college credit, no degree  \n",
       "                           0.16315  \n"
      ]
     },
     "metadata": {},
     "output_type": "display_data"
    }
   ],
   "source": [
    "# 1.2 선형 회귀 모델 만들기\n",
    "# 예측이든, 관계를 찾는 것이든 첫 번째 해야 할 것은 선형 회귀 모델을 만드는 것이다. 선형 회귀를 만드는 R 명령어는 lm()이다. 여기서 가장 중요한 인자 값은 등호 대신 사용하는 ~ 수식이다. \n",
    "# PINCP(소득)를 log10 한 값을 구한다. \n",
    "model <- lm(log(PINCP, base=10)~ AGEP + SEX+ COW+SCHL, data = dtrain)\n",
    "model"
   ]
  },
  {
   "cell_type": "code",
   "execution_count": 28,
   "metadata": {},
   "outputs": [],
   "source": [
    "# 1.3 예측하기 \n",
    "# 예측하기 위해 predict() 메서드에 데이터를넘겨주기만 하면 된다. \n",
    "dtest$predLogPINCP <- predict(model, newdata = dtest)\n",
    "dtrain$predLogPINCP <- predict(model, newdata = dtrain)\n"
   ]
  },
  {
   "cell_type": "code",
   "execution_count": 29,
   "metadata": {},
   "outputs": [
    {
     "name": "stderr",
     "output_type": "stream",
     "text": [
      "`geom_smooth()` using method = 'loess' and formula 'y ~ x'\n",
      "Warning message:\n",
      "\"Removed 9 rows containing non-finite values (stat_smooth).\"Warning message:\n",
      "\"Removed 9 rows containing missing values (geom_point).\"Warning message:\n",
      "\"Removed 67 rows containing missing values (geom_path).\""
     ]
    },
    {
     "data": {
      "image/png": "[encoded data removed]",
      "text/plain": [
       "plot without title"
      ]
     },
     "metadata": {},
     "output_type": "display_data"
    }
   ],
   "source": [
    "\n",
    "# 1.3 예측 품질 규정하기\n",
    "# 만약 예측이 매우 우수하다면 그래프는 y=x인 선에 가깝게 배열될 것이다.\n",
    "ggplot(data = dtest, aes(x=predLogPINCP, y=log(PINCP, base=10)))+\n",
    " geom_point()+\n",
    " geom_smooth(aes(x=predLogPINCP, y=log(PINCP,base=10)), color=\"black\")+\n",
    " geom_line(aes(x=log(PINCP,base=10),y=log(PINCP,base=10)), color=\"blue\")+ scale_x_continuous(limits = c(4,5))+\n",
    " scale_y_continuous(limits = c(3.5,5.5))\n"
   ]
  },
  {
   "cell_type": "code",
   "execution_count": 30,
   "metadata": {},
   "outputs": [
    {
     "name": "stderr",
     "output_type": "stream",
     "text": [
      "`geom_smooth()` using method = 'loess' and formula 'y ~ x'\n"
     ]
    },
    {
     "data": {
      "image/png": "[encoded data removed]",
      "text/plain": [
       "plot without title"
      ]
     },
     "metadata": {},
     "output_type": "display_data"
    }
   ],
   "source": [
    "\n",
    "# 1.3.1 모델 품질 규정  - 잔차\n",
    "ggplot(data=dtest, aes(x=predLogPINCP, y=predLogPINCP-log(PINCP, base= 10))) + \n",
    " geom_point(aes(x=predLogPINCP,\n",
    "  y=predLogPINCP-log(PINCP, base=10)), color=\"black\")+\n",
    " geom_smooth(aes(x=predLogPINCP,\n",
    "  y=predLogPINCP-log(PINCP, base=10)), color=\"black\")\n"
   ]
  },
  {
   "cell_type": "code",
   "execution_count": 31,
   "metadata": {},
   "outputs": [
    {
     "data": {
      "text/html": [
       "0.338256829825747"
      ],
      "text/latex": [
       "0.338256829825747"
      ],
      "text/markdown": [
       "0.338256829825747"
      ],
      "text/plain": [
       "[1] 0.3382568"
      ]
     },
     "metadata": {},
     "output_type": "display_data"
    },
    {
     "data": {
      "text/html": [
       "0.260549616952652"
      ],
      "text/latex": [
       "0.260549616952652"
      ],
      "text/markdown": [
       "0.260549616952652"
      ],
      "text/plain": [
       "[1] 0.2605496"
      ]
     },
     "metadata": {},
     "output_type": "display_data"
    }
   ],
   "source": [
    "# 1.4.2 모델 품질 규정  - R 스퀘어드\n",
    "# R 스퀘어드 값은 꽤 큰 값이어야 하며(1이 최대값), 테스트와 트레이닝 데이터에서 구한 값이 서로 비슷해야한다. 상대적으로 낮은 R 스퀘어드 값은 과적합되었을 경우 발생하는 증상이다. 0.7~1.0 사이의 R 스퀘어드 값이 필요하다. 현재모델은 낮은 품질이면서 상당히 과적합되어 있는 상태이다.\n",
    "rsq <- function(y,f){1-sum((y-f)^2)/sum((y-mean(y))^2)}\n",
    "rsq(log(dtrain$PINCP,base=10), predict(model, newdata= dtrain)) # R스퀘어드 = 0.338 \n",
    "rsq(log(dtest$PINCP,base=10), predict(model, newdata = dtest))  # R스퀘어드 = 0.261\n",
    "\n",
    "# BUT, R 스퀘어드는 지나치게 낙관적일 수 있다. 대체로 트레이닝 데이터에서의 R 스퀘어드는 입력 파라미터가 많을수록 높게 나온다. 추가적인 변수가 모델의 성능을 개선시켰는지 여부와는 별개의 문제로 이런 경향을 나타낸다. 이런 이유로 많은 사람들은 조정된 R 스퀘어드를 선호한다. 이렇기 때문에 R 스퀘어드를 검증하기 위해 추가적으로 참 대 적합 그래프를 그려 확인하는 것이 중요하다.\n"
   ]
  },
  {
   "cell_type": "code",
   "execution_count": 32,
   "metadata": {},
   "outputs": [
    {
     "data": {
      "text/html": [
       "0.265185555877291"
      ],
      "text/latex": [
       "0.265185555877291"
      ],
      "text/markdown": [
       "0.265185555877291"
      ],
      "text/plain": [
       "[1] 0.2651856"
      ]
     },
     "metadata": {},
     "output_type": "display_data"
    },
    {
     "data": {
      "text/html": [
       "0.27521711831768"
      ],
      "text/latex": [
       "0.27521711831768"
      ],
      "text/markdown": [
       "0.27521711831768"
      ],
      "text/plain": [
       "[1] 0.2752171"
      ]
     },
     "metadata": {},
     "output_type": "display_data"
    }
   ],
   "source": [
    "\n",
    "# 1.4.3 모델 품질 규정  - 평균제곱근오차(RMSE)\n",
    "# RMSE는 작아야 하는데 이를 달성할 수 있는 효과적인 방법은 보다 유용한 설명 변수를 사용하는 것이다.\n",
    "rmse <- function(y,f){sqrt(mean((y-f)^2))}\n",
    "rmse(log(dtrain$PINCP,base=10), predict(model, newdata= dtrain)) \n",
    "rmse(log(dtest$PINCP,base=10), predict(model, newdata = dtest))\n"
   ]
  },
  {
   "cell_type": "markdown",
   "metadata": {},
   "source": [
    "###### # log, base=10 = 10의 몇 제곱(승)이 x값인자 알아내는 것. \n",
    "10^0.4771213\n",
    "log(3,base=10)\n"
   ]
  },
  {
   "cell_type": "code",
   "execution_count": 34,
   "metadata": {},
   "outputs": [
    {
     "data": {
      "text/html": [
       "<dl class=dl-horizontal>\n",
       "\t<dt>(Intercept)</dt>\n",
       "\t\t<dd>3.97328316580347</dd>\n",
       "\t<dt>AGEP</dt>\n",
       "\t\t<dd>0.01171695042591</dd>\n",
       "\t<dt>SEXF</dt>\n",
       "\t\t<dd>-0.0931326166702613</dd>\n",
       "\t<dt>COWFederal government employee</dt>\n",
       "\t\t<dd>0.0597274349361673</dd>\n",
       "\t<dt>COWLocal government employee</dt>\n",
       "\t\t<dd>-0.0344168998334025</dd>\n",
       "\t<dt>COWPrivate not-for-profit employee</dt>\n",
       "\t\t<dd>-0.13352438615401</dd>\n",
       "\t<dt>COWSelf-employed incorporated</dt>\n",
       "\t\t<dd>-0.072427270516189</dd>\n",
       "\t<dt>COWSelf-employed not incorporated</dt>\n",
       "\t\t<dd>-0.0606087770256239</dd>\n",
       "\t<dt>COWState government employee</dt>\n",
       "\t\t<dd>-0.0812838472111064</dd>\n",
       "\t<dt>SCHLAssociate's degree</dt>\n",
       "\t\t<dd>0.221431958047124</dd>\n",
       "\t<dt>SCHLBachelor's degree</dt>\n",
       "\t\t<dd>0.393834058857531</dd>\n",
       "\t<dt>SCHLDoctorate degree</dt>\n",
       "\t\t<dd>0.30655375603052</dd>\n",
       "\t<dt>SCHLGED or alternative credential</dt>\n",
       "\t\t<dd>0.13776759187491</dd>\n",
       "\t<dt>SCHLMaster's degree</dt>\n",
       "\t\t<dd>0.477284223777265</dd>\n",
       "\t<dt>SCHLProfessional degree</dt>\n",
       "\t\t<dd>0.678774158413493</dd>\n",
       "\t<dt>SCHLRegular high school diploma</dt>\n",
       "\t\t<dd>0.101745980391373</dd>\n",
       "\t<dt>SCHLsome college credit, no degree</dt>\n",
       "\t\t<dd>0.163152187902526</dd>\n",
       "</dl>\n"
      ],
      "text/latex": [
       "\\begin{description*}\n",
       "\\item[(Intercept)] 3.97328316580347\n",
       "\\item[AGEP] 0.01171695042591\n",
       "\\item[SEXF] -0.0931326166702613\n",
       "\\item[COWFederal government employee] 0.0597274349361673\n",
       "\\item[COWLocal government employee] -0.0344168998334025\n",
       "\\item[COWPrivate not-for-profit employee] -0.13352438615401\n",
       "\\item[COWSelf-employed incorporated] -0.072427270516189\n",
       "\\item[COWSelf-employed not incorporated] -0.0606087770256239\n",
       "\\item[COWState government employee] -0.0812838472111064\n",
       "\\item[SCHLAssociate's degree] 0.221431958047124\n",
       "\\item[SCHLBachelor's degree] 0.393834058857531\n",
       "\\item[SCHLDoctorate degree] 0.30655375603052\n",
       "\\item[SCHLGED or alternative credential] 0.13776759187491\n",
       "\\item[SCHLMaster's degree] 0.477284223777265\n",
       "\\item[SCHLProfessional degree] 0.678774158413493\n",
       "\\item[SCHLRegular high school diploma] 0.101745980391373\n",
       "\\item[SCHLsome college credit, no degree] 0.163152187902526\n",
       "\\end{description*}\n"
      ],
      "text/markdown": [
       "(Intercept)\n",
       ":   3.97328316580347AGEP\n",
       ":   0.01171695042591SEXF\n",
       ":   -0.0931326166702613COWFederal government employee\n",
       ":   0.0597274349361673COWLocal government employee\n",
       ":   -0.0344168998334025COWPrivate not-for-profit employee\n",
       ":   -0.13352438615401COWSelf-employed incorporated\n",
       ":   -0.072427270516189COWSelf-employed not incorporated\n",
       ":   -0.0606087770256239COWState government employee\n",
       ":   -0.0812838472111064SCHLAssociate's degree\n",
       ":   0.221431958047124SCHLBachelor's degree\n",
       ":   0.393834058857531SCHLDoctorate degree\n",
       ":   0.30655375603052SCHLGED or alternative credential\n",
       ":   0.13776759187491SCHLMaster's degree\n",
       ":   0.477284223777265SCHLProfessional degree\n",
       ":   0.678774158413493SCHLRegular high school diploma\n",
       ":   0.101745980391373SCHLsome college credit, no degree\n",
       ":   0.163152187902526\n",
       "\n"
      ],
      "text/plain": [
       "                       (Intercept)                               AGEP \n",
       "                        3.97328317                         0.01171695 \n",
       "                              SEXF     COWFederal government employee \n",
       "                       -0.09313262                         0.05972743 \n",
       "      COWLocal government employee COWPrivate not-for-profit employee \n",
       "                       -0.03441690                        -0.13352439 \n",
       "     COWSelf-employed incorporated  COWSelf-employed not incorporated \n",
       "                       -0.07242727                        -0.06060878 \n",
       "      COWState government employee             SCHLAssociate's degree \n",
       "                       -0.08128385                         0.22143196 \n",
       "             SCHLBachelor's degree               SCHLDoctorate degree \n",
       "                        0.39383406                         0.30655376 \n",
       " SCHLGED or alternative credential                SCHLMaster's degree \n",
       "                        0.13776759                         0.47728422 \n",
       "           SCHLProfessional degree    SCHLRegular high school diploma \n",
       "                        0.67877416                         0.10174598 \n",
       "SCHLsome college credit, no degree \n",
       "                        0.16315219 "
      ]
     },
     "metadata": {},
     "output_type": "display_data"
    },
    {
     "data": {
      "text/html": [
       "1.02730641483868"
      ],
      "text/latex": [
       "1.02730641483868"
      ],
      "text/markdown": [
       "1.02730641483868"
      ],
      "text/plain": [
       "[1] 1.027306"
      ]
     },
     "metadata": {},
     "output_type": "display_data"
    }
   ],
   "source": [
    "\n",
    "# 1.4 선형 회귀에서 관계 찾기와 조언 추출하기 \n",
    "# 선형 회귀 모델에서 모든 정보는 계수(coefficient)라 불리는 숫자 묶음에 저장된다. \n",
    "coefficients(model)\n",
    "# AGEP 0.01171695 \n",
    "# 나이에 있어 1년이 증가함에 따라 0.0017의 추가적인 로그 소득이 있다는 의미이다. 다시 말해, 나이가 1년 증가하면 따라 소득은 10^0.0017, 즉 2.7%로 증가한다.\n",
    "10^0.0117\n"
   ]
  },
  {
   "cell_type": "code",
   "execution_count": 35,
   "metadata": {},
   "outputs": [
    {
     "data": {
      "text/plain": [
       "\n",
       "Call:\n",
       "lm(formula = log(PINCP, base = 10) ~ AGEP + SEX + COW + SCHL, \n",
       "    data = dtrain)\n",
       "\n",
       "Residuals:\n",
       "     Min       1Q   Median       3Q      Max \n",
       "-1.29220 -0.14153  0.02458  0.17632  0.62532 \n",
       "\n",
       "Coefficients:\n",
       "                                    Estimate Std. Error t value Pr(>|t|)    \n",
       "(Intercept)                         3.973283   0.059343  66.954  < 2e-16 ***\n",
       "AGEP                                0.011717   0.001352   8.666  < 2e-16 ***\n",
       "SEXF                               -0.093133   0.023405  -3.979 7.80e-05 ***\n",
       "COWFederal government employee      0.059727   0.060927   0.980 0.327343    \n",
       "COWLocal government employee       -0.034417   0.048030  -0.717 0.473928    \n",
       "COWPrivate not-for-profit employee -0.133524   0.039223  -3.404 0.000709 ***\n",
       "COWSelf-employed incorporated      -0.072427   0.068093  -1.064 0.287928    \n",
       "COWSelf-employed not incorporated  -0.060609   0.069244  -0.875 0.381779    \n",
       "COWState government employee       -0.081284   0.057796  -1.406 0.160146    \n",
       "SCHLAssociate's degree              0.221432   0.052094   4.251 2.49e-05 ***\n",
       "SCHLBachelor's degree               0.393834   0.043249   9.106  < 2e-16 ***\n",
       "SCHLDoctorate degree                0.306554   0.160127   1.914 0.056058 .  \n",
       "SCHLGED or alternative credential   0.137768   0.078192   1.762 0.078612 .  \n",
       "SCHLMaster's degree                 0.477284   0.050895   9.378  < 2e-16 ***\n",
       "SCHLProfessional degree             0.678774   0.087321   7.773 3.52e-14 ***\n",
       "SCHLRegular high school diploma     0.101746   0.042628   2.387 0.017316 *  \n",
       "SCHLsome college credit, no degree  0.163152   0.042729   3.818 0.000149 ***\n",
       "---\n",
       "Signif. codes:  0 '***' 0.001 '**' 0.01 '*' 0.05 '.' 0.1 ' ' 1\n",
       "\n",
       "Residual standard error: 0.2691 on 578 degrees of freedom\n",
       "Multiple R-squared:  0.3383,\tAdjusted R-squared:  0.3199 \n",
       "F-statistic: 18.47 on 16 and 578 DF,  p-value: < 2.2e-16\n"
      ]
     },
     "metadata": {},
     "output_type": "display_data"
    }
   ],
   "source": [
    "\n",
    "# 계수(인터셉트)는 항상 값 1을 갖는 변수에 해당하며, lm() 함수를 호출하는 동안 수식에서 특별한 0+ 표기법을 사용하지 않는 한 선형 회귀 모델에 묵시적으로 추가된다.\n",
    "# 1.5 모델 요약값 해석과 계수 품질 규정하기\n",
    "summary(model)\n",
    "\n"
   ]
  },
  {
   "cell_type": "markdown",
   "metadata": {},
   "source": [
    "###### 전체 모델 품질 요약\n",
    "- 자유도(degree of freedom)는 데이터 열의 수에서 계수에 맞는 열의 숫자를 뺀 것이다. 자유도는 트레이닝 데이터 내에서 문제를 해결하기 위해 사용한 계수의 숫자로 보정한 후의 데이터 행으로 간주된다. 자유도를 계수이 수에 비해 크게 하려고 하는 것은 과적합을 피하기 위해서 필요하다.\n",
    "-  Residual standard error: 0.2691 on 578 degrees of freedom\n",
    "-  Multiple R-squared:  0.3383,\tAdjusted R-squared:  0.3199 \n",
    "- F-statistic: 18.47 on 16 and 578 DF,  p-value: < 2.2e-16\n"
   ]
  },
  {
   "cell_type": "code",
   "execution_count": 36,
   "metadata": {},
   "outputs": [
    {
     "ename": "ERROR",
     "evalue": "Error in parse(text = x, srcfile = src): <text>:1:23: 예상하지 못한 기호(symbol)입니다.\n1: 잔차표준오차(residual standard\n                          ^\n",
     "output_type": "error",
     "traceback": [
      "Error in parse(text = x, srcfile = src): <text>:1:23: 예상하지 못한 기호(symbol)입니다.\n1: 잔차표준오차(residual standard\n                          ^\nTraceback:\n"
     ]
    }
   ],
   "source": [
    "잔차표준오차(residual standard error)는 자유도에서 얻은 잔차의 제곱의 합이다.\n",
    "df <- dim(dtrain)[1]- dim(summary(model)$coefficients)[1] # 자유도 구하는 식\n",
    "df\n",
    "modelResidualError <- sqrt(sum(residuals(model)^2)/df)    # Residual standard error \n",
    "modelResidualError \n",
    "# Multiple R-squared  0.7~1.0 사이의 값 즉 큰 값일 수 록 좋다.\n",
    "# F통계는 우리가 모델 계수로 본  P밸류와 비슷하다. F통계는 선형 회귀 모델이 상수모드보다 예측을 더 잘하는지 판별할 때 사용된다. F통계는 F테스트로부터 이름을 따왔는데, F테스트는 2개의 변수가 크게 다른지 판별할 때 사용한다.\n",
    "\n"
   ]
  },
  {
   "cell_type": "markdown",
   "metadata": {},
   "source": [
    "###### 6 1.6 선형 회귀에서 꼭 기억할 내용\n",
    "- 선형 회귀는 수량에 대해 도움을 주는 통계적 모델링 방법이다.\n",
    "- 항상 처음에는 선형 회귀를 시도하고, 보다 복잡한 방법은 선형 회귀 모델을 정말로 능가할 때만 사용하라.\n",
    "- 선형 회귀는 매우 많은 수의 변수나 매우 많은 레벨을 가진 범주형 변수를 다루는 이슈에서는 문제를 일으킨다.\n",
    "- 새로운 변수를 추가하거나 변수를 변환하여 선형 회귀 분석을 향상시킬 수 있다.\n",
    "- 선형 회귀로 잔차의 개념을 생각할 수 있다. 오류 상관관계를 시도하고 체계적인 모델링 오류를 제거하는 추가 변수를 찾는다.\n",
    "- 선형 회귀는 상관변수의 존재하에서도 잘 예측하지만 상관변수는 해석의 품질을 낮춘다.\n",
    "- 지나치게 큰 계수의 크기, 추정에 지나치게 큰 표준 오류, 그리고 계수에 대한 잘못된 부호는 상관 입력의 신호가 될 수 있다.\n",
    "- 선형 회귀는 자체에 최고의 진달을 위한 도구가 있지만 테스트 모델로 다시 점검하는 것은 가장 효율적인 안전 장치다.\n"
   ]
  },
  {
   "cell_type": "code",
   "execution_count": null,
   "metadata": {},
   "outputs": [],
   "source": []
  },
  {
   "cell_type": "code",
   "execution_count": null,
   "metadata": {},
   "outputs": [],
   "source": []
  }
 ],
 "metadata": {
  "kernelspec": {
   "display_name": "R",
   "language": "R",
   "name": "ir"
  },
  "language_info": {
   "codemirror_mode": "r",
   "file_extension": ".r",
   "mimetype": "text/x-r-source",
   "name": "R",
   "pygments_lexer": "r",
   "version": "3.6.1"
  }
 },
 "nbformat": 4,
 "nbformat_minor": 2
}
